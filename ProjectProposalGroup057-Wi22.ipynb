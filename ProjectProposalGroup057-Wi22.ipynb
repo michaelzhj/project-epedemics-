{
 "cells": [
  {
   "cell_type": "markdown",
   "metadata": {},
   "source": [
    "# COGS 108 - Final Project Proposal"
   ]
  },
  {
   "cell_type": "markdown",
   "metadata": {},
   "source": [
    "# Names\n",
    "\n",
    "- Hongjie Zhu (HZ)\n",
    "- Qingyue Li (QL)\n",
    "- Kevin Lin (KL)\n",
    "- Yvonne Luo (YL)\n",
    "- Jason Chen (JC)\n"
   ]
  },
  {
   "cell_type": "markdown",
   "metadata": {},
   "source": [
    "# Research Question"
   ]
  },
  {
   "cell_type": "markdown",
   "metadata": {},
   "source": [
    "What are the effects of widespread viruses on age stratification (especially on birth rate and death rate)?\n",
    "- H1N1\n",
    "- SARS\n",
    "- COVID-19 \n"
   ]
  },
  {
   "cell_type": "markdown",
   "metadata": {},
   "source": [
    "## Background and Prior Work"
   ]
  },
  {
   "cell_type": "markdown",
   "metadata": {},
   "source": [
    "This project will focus on investigating the effects of widespread viruses on age stratification. We picked the viruses H1N1 from 2009, SARS from 2002, and COVID-19 from 2019 as examples that may represent a bigger picture. As students of this age who have gone through all three pandemics, we are curious to find out if any of the 3 pandemics have had an impact on age stratification by comparing the population structure data during the pandemics with the population structure data from years preceding the pandemics.\n",
    "\n",
    "The outbreak of SARS in 2002 lasted for about 6 months, the outbreak of H1N1 in 2009 lasted for about a year and a half, and the outbreak of COVID-19 in 2019 has continued till this day for about 2  years. The disease with the most serious impact on demographics among the three is most likely COVID-19, followed by H1N1, then SARS. However, it may only appear so because the outbreak of COVID-19 lasted for the longest period of time. Additionally, although rising death cases are obvious to see and everyone probably had heard of the quarantine babies joke, it is unclear that these factors are significant enough to lead to a change in the age stratification of our population. Therefore, we as a group would like to conduct further research and analysis to investigate this potential correlation.\n",
    "\n",
    "\n",
    "References (include links):\n",
    "\n",
    "<br> 1) Balbo, N., Kashnitsky, I., Melegaro, A., Meslé, F., Mills, M. C., de Valk, H. A. G. & Vono de Vilhena, D. (2020). Demography and the Coronavirus Pandemic. Population & Policy Compact 25, Berlin: Max Planck Society/Population Europe.\n",
    "\n",
    "https://iris.unibocconi.it/retrieve/handle/11565/4033817/142518/pb25_covid%20%281%29.pdf\n",
    "\n",
    "This article suggests that it is hard to draw a conclusion about whether or not and how COVID-19 pandemic will affect human population structure since we are still experiencing this pandemic. However, it is expected to see several changes in the structure of the human population because of the deaths caused by SARS-Cov2, drop of birth rate, and social-economical changes caused by the pandemic, etc.\n",
    "\n",
    "<br> 2) Ullah, M., Moin, A., Araf, Y., Bhuiyan, A., Griffiths, M., & Gozal, D. (2020). Potential Effects of the COVID-19 Pandemic on Future Birth Rate. Frontiers In Public Health, 8. doi: 10.3389/fpubh.2020.578438)\n",
    "\n",
    "https://doi.org/10.3389/fpubh.2020.578438\n",
    "\n",
    "This article introduces the potential demographic effects of COVID-19 pandemic on the human population. It suggests that, just like other natural disasters, the birth rate will at first drop severely, followed by a slow and gradual increase, and at last a drastic baby boom (Ullah et al., 2020). The result of this research paper could potentially support our idea that pandemics may change age stratification of the US population to some extent.\n"
   ]
  },
  {
   "cell_type": "markdown",
   "metadata": {},
   "source": [
    "# Hypothesis\n"
   ]
  },
  {
   "cell_type": "markdown",
   "metadata": {},
   "source": [
    "We anticipate that all three viruses may affect age stratification; among all 3 of these viruses, we speculate that covid-19 would have the greatest effects on age stratification. We believe that the birth rate per 100,000 residents during covid-19 would be the highest among three since people were quarantined at home for a longer period of time. However, we believe that the covid-19 would have the highest infection rate due to various variants and end up with the highest death rate per 100,000 residents."
   ]
  },
  {
   "cell_type": "markdown",
   "metadata": {},
   "source": [
    "# Data"
   ]
  },
  {
   "cell_type": "markdown",
   "metadata": {},
   "source": [
    "2002-11-01 ~ 2003-07-31 population structure(census) of US(duration of SARS)\n",
    "\n",
    "2000-01-01 ~2002-10-31 population structure(census)  of US (before SARS)\n",
    "\n",
    "2000-01-01 ~ 2003-07-31 death rate and birth rate for different age groups in US \n",
    "\n",
    "2009-01-01 ~ 2010--09-01 population structure(census)  of US (duration of H1N1)\n",
    "\n",
    "2007-01-01 ~ 2009--09-01 population structure(census)  of US  (before H1N1)\n",
    "\n",
    "2007-01-01 ~ 2010-09-01 death rate and birth rate for different age groups in US \n",
    "\n",
    "2020-01-01~2021-01-01  population structure(census)  of US (duration of Covid-19 period)\n",
    "\n",
    "2017-01-01~2019-12-31   population structure (census) of US(before Covid-19 period)\n",
    "\n",
    "2017-01-01 ~ 2021-01-01 death rate and birth rate for different age groups in US \n"
   ]
  },
  {
   "cell_type": "markdown",
   "metadata": {},
   "source": [
    "# Ethics & Privacy"
   ]
  },
  {
   "cell_type": "markdown",
   "metadata": {},
   "source": [
    "problems:\n",
    "\n",
    "1.Due to personal issues or inconvenience, the dataset will not include everyone’s information and someone will miswrite and forget to participate in the census. Therefore, the dataset will be somewhat biased.\n",
    "\n",
    "2.Using this data cannot get the consent from everyone.\n",
    "\n",
    "3.The metric to evaluate effects on age stratification lack variety\n",
    "\n",
    "Solutions:\n",
    "\n",
    "1.Since the census base is very large, these neglected  portions of population  can be ignored and it will cause any huge influence to our result\n",
    "\n",
    "2.Write a statement to declare that all information is used for research purposes only, and all data are open to the public and available online. There is no risk of personal information being disclosed\n",
    "\n",
    "3.Using more models such as the regression model  to analyze data and investigate the question from multi-perspective.\n"
   ]
  },
  {
   "cell_type": "markdown",
   "metadata": {},
   "source": [
    "# Team Expectations "
   ]
  },
  {
   "cell_type": "markdown",
   "metadata": {},
   "source": [
    "- Prepare a detailed agenda for all meeting invites, and all group members must attend on time.\n",
    "- We will communicate through the zoom meeting at the appointed time, and will also meet each other in person if there is a chance.\n",
    "- Prioritize the team’s success over your own whenever possible.\n",
    "- Respect each other, listen carefully, and do not interrupt when another team member is speaking.\n",
    "- When dealing with conflicts, ask questions to clarify your understanding of what the other person wants to express. Focusing on behaviors and events, not the personalities of the other person. Do not judge each other. Summarizing areas of agreement and disagreement, and ask the other person if they agree with your assessment. Revise your assessment until you all agree on areas of conflict. Create a plan to resolve each conflict.\n",
    "- We should work together, strictly follow the project timeline. Complete your own work before each meeting, and actively participate in discussions.\n",
    "- We divided the work into four categories: collecting data (2 people), analyzing the data (2 people), converting the content of the data into a chart using python (3 people), and finding conclusions through the chart (3 people). Everyone should be assigned three of the four categories, but other than that everyone must read each section carefully, check grammar and help revise the code and text.\n",
    "- When dealing with non-cooperative team members, we should first try to get in touch with them, try to find out the reason they do not cooperate(ex. if any difficulties are met). Try to communicate with them in a friendly manner. If all the methods mentioned above do not solve the problem, send the detailed information about this circumstance to Professor.\n"
   ]
  },
  {
   "cell_type": "markdown",
   "metadata": {},
   "source": [
    "# Project Timeline Proposal"
   ]
  },
  {
   "cell_type": "markdown",
   "metadata": {},
   "source": [
    "| Meeting Date  | Meeting Time| Completed Before Meeting  | Discuss at Meeting |\n",
    "|---|---|---|---|\n",
    "| 1/13  | 6 PM  | N/A | forming groups / get to know other members / exchange contact info |\n",
    "| 1/20  | 6 PM |  Group Singup / Read & Think about COGS 108 expectations / brainstorm topics | Project Review / Discuss on the project ideas and confirm the topic | \n",
    "| 1/27  | 6 PM |  Submit Project Review / Do background research on topic | split up work for Project Proposal / discuss the meeting time tomorrow to finish up the Project Proposal | \n",
    "| 1/28  | 6 PM |  Individual work & rephrase research questions | Finalize the project proposal / start looking for available datasets that are related to the topic ( any two who feel comfortable or available ) | \n",
    "| 2/3   | 6 PM |  Submit Project Proposal / look for datasets | Discuss Wrangling data / share opinions & ideas on the project |\n",
    "| 2/10  | 6 PM | Wrangle Data ( any two who feel comfortable or available ) | Finish the Checkpoint#1: Data / Discuss possible analytical approaches ( any three who feel comfortable or available ) |\n",
    "| 2/17  | 6 PM | Submit Checkpoint#1 | check the progress / discuss the challenges that appear when doing EDA /  |\n",
    "| 2/24  | 6 PM | N/A | Finish the Checkpoint#2: EDA / continue to do more EDA and improve the graphs ( charts ) |\n",
    "| 3/3   | 6 PM | Submit Checkpoint#2 | more EDA and improve the explanations |\n",
    "| 3/10  | 6 PM | N/A | Work on ethics part / conclusion ( everyone should participate ) |\n",
    "| 3/13  | 6 PM | Finish the rough draft with 90% done | Check the rough draft on grammar and punctuations / Double-check for minor mistakes |\n",
    "| 3/14  | Before 11:59 PM  | Finalize the project and double-check for minor mistakes | Turn in Final Project & Group Project Surveys |\n"
   ]
  },
  {
   "cell_type": "markdown",
   "metadata": {},
   "source": []
  }
 ],
 "metadata": {
  "kernelspec": {
   "display_name": "Python 3",
   "language": "python",
   "name": "python3"
  },
  "language_info": {
   "codemirror_mode": {
    "name": "ipython",
    "version": 3
   },
   "file_extension": ".py",
   "mimetype": "text/x-python",
   "name": "python",
   "nbconvert_exporter": "python",
   "pygments_lexer": "ipython3",
   "version": "3.7.9"
  }
 },
 "nbformat": 4,
 "nbformat_minor": 2
}
